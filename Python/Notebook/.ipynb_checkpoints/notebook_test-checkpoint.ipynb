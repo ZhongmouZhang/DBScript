{
 "cells": [
  {
   "cell_type": "code",
   "execution_count": 2,
   "metadata": {},
   "outputs": [
    {
     "name": "stdout",
     "output_type": "stream",
     "text": [
      "[[[[6 9 4 3 1]\n",
      "   [6 8 3 8 9]\n",
      "   [6 8 7 5 8]\n",
      "   [2 3 1 6 7]]\n",
      "\n",
      "  [[6 3 4 1 6]\n",
      "   [5 3 2 6 6]\n",
      "   [6 5 5 6 6]\n",
      "   [8 4 8 9 3]]\n",
      "\n",
      "  [[4 9 6 5 8]\n",
      "   [6 9 4 4 9]\n",
      "   [3 1 4 6 6]\n",
      "   [7 7 8 9 1]]]\n",
      "\n",
      "\n",
      " [[[5 7 6 3 9]\n",
      "   [9 7 2 8 8]\n",
      "   [2 4 3 1 7]\n",
      "   [3 8 5 4 7]]\n",
      "\n",
      "  [[1 9 2 9 8]\n",
      "   [9 9 6 4 5]\n",
      "   [8 9 7 2 4]\n",
      "   [3 8 8 9 1]]\n",
      "\n",
      "  [[3 3 1 1 7]\n",
      "   [4 4 9 4 2]\n",
      "   [3 4 7 3 9]\n",
      "   [8 1 1 3 4]]]]\n"
     ]
    }
   ],
   "source": [
    "import numpy as np\n",
    "a = np.random.randint(1, 10, (2,3,4,5))\n",
    "print (a)"
   ]
  },
  {
   "cell_type": "code",
   "execution_count": 3,
   "metadata": {},
   "outputs": [
    {
     "data": {
      "text/plain": [
       "array([[[23, 34, 34, 19],\n",
       "        [20, 22, 28, 32],\n",
       "        [32, 32, 20, 32]],\n",
       "\n",
       "       [[30, 34, 17, 27],\n",
       "        [29, 33, 30, 29],\n",
       "        [15, 23, 26, 17]]])"
      ]
     },
     "execution_count": 3,
     "metadata": {},
     "output_type": "execute_result"
    }
   ],
   "source": [
    "np.sum(a, axis=3, keepdims = False)\n"
   ]
  },
  {
   "cell_type": "code",
   "execution_count": 13,
   "metadata": {},
   "outputs": [
    {
     "name": "stdout",
     "output_type": "stream",
     "text": [
      "[[[4 1]\n",
      "  [2 1]\n",
      "  [3 3]]\n",
      "\n",
      " [[2 4]\n",
      "  [1 4]\n",
      "  [1 4]]]\n",
      "(2, 3, 2)\n"
     ]
    }
   ],
   "source": [
    "b = np.random.randint(1,5, (2,3,2))\n",
    "print (b)\n",
    "print (b.shape)"
   ]
  },
  {
   "cell_type": "code",
   "execution_count": 6,
   "metadata": {},
   "outputs": [
    {
     "data": {
      "text/plain": [
       "'C:\\\\Users\\\\jzhang2\\\\Documents\\\\GitHub\\\\DBScript\\\\Python\\\\Notebook'"
      ]
     },
     "execution_count": 6,
     "metadata": {},
     "output_type": "execute_result"
    }
   ],
   "source": [
    "import os\n",
    "os.getcwd()"
   ]
  },
  {
   "cell_type": "code",
   "execution_count": 14,
   "metadata": {},
   "outputs": [
    {
     "name": "stdout",
     "output_type": "stream",
     "text": [
      "[[[13 17]]]\n",
      "(1, 1, 2)\n"
     ]
    }
   ],
   "source": [
    "c = np.sum(b, axis=(0,1), keepdims = True)\n",
    "print (c)\n",
    "print (c.shape)"
   ]
  },
  {
   "cell_type": "code",
   "execution_count": 8,
   "metadata": {},
   "outputs": [
    {
     "name": "stdout",
     "output_type": "stream",
     "text": [
      "[[4 4 1 3 4 2 3 1]\n",
      " [4 2 3 1 4 2 4 1]\n",
      " [2 4 3 4 1 1 3 1]\n",
      " [3 2 4 2 4 3 4 4]\n",
      " [2 1 4 2 4 1 1 1]\n",
      " [2 4 1 3 1 1 1 3]\n",
      " [4 4 4 2 4 1 1 1]]\n",
      "(7, 8)\n"
     ]
    }
   ],
   "source": []
  },
  {
   "cell_type": "code",
   "execution_count": null,
   "metadata": {},
   "outputs": [],
   "source": []
  }
 ],
 "metadata": {
  "kernelspec": {
   "display_name": "Python 3",
   "language": "python",
   "name": "python3"
  },
  "language_info": {
   "codemirror_mode": {
    "name": "ipython",
    "version": 3
   },
   "file_extension": ".py",
   "mimetype": "text/x-python",
   "name": "python",
   "nbconvert_exporter": "python",
   "pygments_lexer": "ipython3",
   "version": "3.7.1"
  }
 },
 "nbformat": 4,
 "nbformat_minor": 2
}
