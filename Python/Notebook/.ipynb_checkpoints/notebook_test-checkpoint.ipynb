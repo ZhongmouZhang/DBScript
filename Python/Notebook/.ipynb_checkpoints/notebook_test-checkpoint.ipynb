{
 "cells": [
  {
   "cell_type": "code",
   "execution_count": 2,
   "metadata": {},
   "outputs": [
    {
     "name": "stdout",
     "output_type": "stream",
     "text": [
      "[[[[4 1 3 9 4]\n",
      "   [7 5 6 3 5]\n",
      "   [9 7 8 9 8]\n",
      "   [6 8 8 3 9]]\n",
      "\n",
      "  [[2 1 6 2 6]\n",
      "   [7 4 2 4 1]\n",
      "   [7 2 9 5 7]\n",
      "   [4 2 9 1 4]]\n",
      "\n",
      "  [[3 4 8 3 2]\n",
      "   [7 1 3 6 6]\n",
      "   [4 1 8 9 8]\n",
      "   [8 1 9 5 7]]]\n",
      "\n",
      "\n",
      " [[[2 2 7 7 8]\n",
      "   [8 5 9 6 6]\n",
      "   [5 2 8 7 2]\n",
      "   [5 5 7 5 5]]\n",
      "\n",
      "  [[1 8 6 3 2]\n",
      "   [9 4 5 8 4]\n",
      "   [5 1 4 7 2]\n",
      "   [6 3 9 3 1]]\n",
      "\n",
      "  [[3 6 3 8 9]\n",
      "   [4 7 4 2 4]\n",
      "   [7 6 2 7 2]\n",
      "   [1 9 7 2 7]]]]\n"
     ]
    }
   ],
   "source": [
    "import numpy as np\n",
    "a = np.random.randint(1, 10, (2,3,4,5))\n",
    "print (a)"
   ]
  },
  {
   "cell_type": "code",
   "execution_count": 3,
   "metadata": {},
   "outputs": [
    {
     "data": {
      "text/plain": [
       "array([[[21, 26, 41, 34],\n",
       "        [17, 18, 30, 20],\n",
       "        [20, 23, 30, 30]],\n",
       "\n",
       "       [[26, 34, 24, 27],\n",
       "        [20, 30, 19, 22],\n",
       "        [29, 21, 24, 26]]])"
      ]
     },
     "execution_count": 3,
     "metadata": {},
     "output_type": "execute_result"
    }
   ],
   "source": [
    "np.sum(a, axis=3, keepdims = False)\n"
   ]
  },
  {
   "cell_type": "code",
   "execution_count": 10,
   "metadata": {},
   "outputs": [
    {
     "name": "stdout",
     "output_type": "stream",
     "text": [
      "[[1 3 1 3 2 3 4 2]\n",
      " [1 4 1 1 2 3 1 1]\n",
      " [4 1 2 3 3 2 4 2]\n",
      " [3 4 4 2 3 2 1 3]\n",
      " [2 3 2 3 2 2 3 4]\n",
      " [2 3 4 3 4 4 2 2]\n",
      " [2 1 4 4 1 2 2 2]]\n"
     ]
    }
   ],
   "source": [
    "b = np.random.randint(1,5, (7,8))\n",
    "print (b)"
   ]
  },
  {
   "cell_type": "code",
   "execution_count": 6,
   "metadata": {},
   "outputs": [
    {
     "data": {
      "text/plain": [
       "'C:\\\\Users\\\\jzhang2\\\\Documents\\\\GitHub\\\\DBScript\\\\Python\\\\Notebook'"
      ]
     },
     "execution_count": 6,
     "metadata": {},
     "output_type": "execute_result"
    }
   ],
   "source": [
    "import os\n",
    "os.getcwd()"
   ]
  },
  {
   "cell_type": "code",
   "execution_count": 11,
   "metadata": {},
   "outputs": [
    {
     "data": {
      "text/plain": [
       "array([[15, 19, 18, 19, 17, 18, 17, 16]])"
      ]
     },
     "execution_count": 11,
     "metadata": {},
     "output_type": "execute_result"
    }
   ],
   "source": [
    "np.sum(b, axis=0, keepdims = True)"
   ]
  },
  {
   "cell_type": "code",
   "execution_count": 12,
   "metadata": {},
   "outputs": [
    {
     "name": "stdout",
     "output_type": "stream",
     "text": [
      "(7, 8)\n"
     ]
    }
   ],
   "source": [
    "print (b.shape)"
   ]
  },
  {
   "cell_type": "code",
   "execution_count": null,
   "metadata": {},
   "outputs": [],
   "source": []
  }
 ],
 "metadata": {
  "kernelspec": {
   "display_name": "Python 3",
   "language": "python",
   "name": "python3"
  },
  "language_info": {
   "codemirror_mode": {
    "name": "ipython",
    "version": 3
   },
   "file_extension": ".py",
   "mimetype": "text/x-python",
   "name": "python",
   "nbconvert_exporter": "python",
   "pygments_lexer": "ipython3",
   "version": "3.7.1"
  }
 },
 "nbformat": 4,
 "nbformat_minor": 2
}
